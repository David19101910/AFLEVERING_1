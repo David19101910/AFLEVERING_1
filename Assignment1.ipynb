{
 "cells": [
  {
   "cell_type": "markdown",
   "id": "4d4de1e8",
   "metadata": {},
   "source": [
    "HALLO HALLO"
   ]
  }
 ],
 "metadata": {
  "language_info": {
   "name": "python"
  }
 },
 "nbformat": 4,
 "nbformat_minor": 5
}
