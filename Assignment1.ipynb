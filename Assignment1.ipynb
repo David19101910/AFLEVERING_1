{
 "cells": [
  {
   "cell_type": "code",
   "execution_count": 1,
   "id": "f5470670",
   "metadata": {},
   "outputs": [],
   "source": [
    "import numpy as np\n",
    "import matplotlib.pyplot as plt\n",
    "import pandas as pd\n",
    "import seaborn as sns\n",
    "import statsmodels.api as sm\n",
    "import scipy.stats as stats\n"
   ]
  },
  {
   "cell_type": "code",
   "execution_count": 5,
   "id": "3f43ab15",
   "metadata": {},
   "outputs": [
    {
     "name": "stdout",
     "output_type": "stream",
     "text": [
      "               nr        taxrev    taxrate            pop\n",
      "count   98.000000     98.000000  98.000000      98.000000\n",
      "mean   462.173469   4477.341309  25.208162   56475.887755\n",
      "std    236.555437   5251.175293   0.908003   62925.301713\n",
      "min    101.000000    211.228409  22.799999    1969.000000\n",
      "25%    242.500000   2466.702271  24.799999   29997.750000\n",
      "50%    435.000000   3317.848633  25.299999   43475.000000\n",
      "75%    697.250000   4786.060913  25.700001   59733.000000\n",
      "max    860.000000  44170.335938  27.799999  528208.000000\n",
      "    nr                kommune        taxrev    taxrate     pop\n",
      "0  101     Københavns Kommune  44170.335938  23.799999  528208\n",
      "1  147  Frederiksberg Kommune   6682.439941  23.100000   96718\n",
      "2  151       Ballerup Kommune   4598.704102  25.500000   47652\n",
      "3  153        Brøndby Kommune   3121.204834  24.500000   33795\n",
      "4  155         Dragør Kommune    858.017944  24.799999   13564\n",
      "Median values:\n",
      "nr           435.000000\n",
      "taxrev      3317.848633\n",
      "taxrate       25.299999\n",
      "pop        43475.000000\n",
      "dtype: float64\n"
     ]
    }
   ],
   "source": [
    "df = pd.read_stata(\"A1_kommune.dta\")\n",
    "\n",
    "print(df.describe())\n",
    "print(df.head())\n",
    "print(\"Median values:\")\n",
    "print(df.median(numeric_only=True))"
   ]
  }
 ],
 "metadata": {
  "kernelspec": {
   "display_name": "base",
   "language": "python",
   "name": "python3"
  },
  "language_info": {
   "codemirror_mode": {
    "name": "ipython",
    "version": 3
   },
   "file_extension": ".py",
   "mimetype": "text/x-python",
   "name": "python",
   "nbconvert_exporter": "python",
   "pygments_lexer": "ipython3",
   "version": "3.12.7"
  }
 },
 "nbformat": 4,
 "nbformat_minor": 5
}
